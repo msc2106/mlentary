{
 "cells": [
  {
   "attachments": {},
   "cell_type": "markdown",
   "metadata": {},
   "source": [
    "SVM example: Identifyng Chronic Kidney Disease\n",
    "----"
   ]
  },
  {
   "attachments": {},
   "cell_type": "markdown",
   "metadata": {},
   "source": [
    "# Introduction"
   ]
  },
  {
   "attachments": {},
   "cell_type": "markdown",
   "metadata": {},
   "source": [
    "This notebook walks through an example implementing a Support Vector Machine to tackle a medical classification problem. The data comes from the UCI Machine Learning Repository (https://archive.ics.uci.edu/ml/datasets/Chronic_Kidney_Disease), based on research by P. Soundarapandian, L. Jerlin Rubini, and P. Esweran.\n"
   ]
  },
  {
   "attachments": {},
   "cell_type": "markdown",
   "metadata": {},
   "source": [
    "## Outline\n",
    "\n",
    "1. Implementing a linear SVM\n",
    "1. Applying and tuning the model\n",
    "1. Introducing non-linearity"
   ]
  },
  {
   "attachments": {},
   "cell_type": "markdown",
   "metadata": {},
   "source": [
    "## Setup"
   ]
  },
  {
   "attachments": {},
   "cell_type": "markdown",
   "metadata": {},
   "source": [
    "We will be using both [NumPy](https://numpy.org/doc/stable/index.html) arrays and [pandas](https://pandas.pydata.org/docs/index.html) DataFrames, so we need to import these packages with their standard abbreviations."
   ]
  },
  {
   "cell_type": "code",
   "execution_count": 7,
   "metadata": {},
   "outputs": [],
   "source": [
    "import numpy as np\n",
    "import pandas as pd\n",
    "from sklearn.metrics import classification_report\n",
    "import seaborn as sns\n",
    "import matplotlib.pyplot as plt\n",
    "\n",
    "# global random number generator\n",
    "RNG = np.random.default_rng()"
   ]
  },
  {
   "attachments": {},
   "cell_type": "markdown",
   "metadata": {},
   "source": [
    "# 1. Implementing a Linear SVM"
   ]
  },
  {
   "attachments": {},
   "cell_type": "markdown",
   "metadata": {},
   "source": [
    "## Theory\n",
    "\n",
    "Recall that a **Support Vector Machine** seeks to minimize classification errors while maximizing the width of the margin around the decision boundary, in hopes of increasing generalizability. More formally, we have a dataset of $n$ feature vectors $x^{(i)}$ and labels $y^{(i)}\\in {-1,1}$. We want to find a set of parameters ($\\theta, \\theta_0$) that mimimize the cost function:\n",
    "$$ J(\\theta , \\theta _0) = \\frac{1}{n} \\sum _{i=1}^{n} \\text {Loss}_ h (y^{(i)} (\\theta \\cdot x^{(i)} + \\theta _0 )) + \\frac{\\lambda }{2} \\mid \\mid \\theta \\mid \\mid ^2$$\n",
    "where\n",
    "$$\\text{Loss}_h(z)=\\begin{cases}0 & z \\ge 1 \\\\1-z & z < 1\\end{cases}$$\n",
    "and $\\lambda$ is the **regularization parameter**, determining the relative weight given to margin width (i.e. the inverse of the squared norm of $\\theta$) and accuracy (i.e. the `Loss` term). Higher $\\lambda$ focuses more on regularization by widening the margin.\n",
    "\n",
    "We estimate the parameters through **Stochastic Gradient Descent (SGD)**. This means we randomly select an observation $i$ and update the parameters as follows:\n",
    "\n",
    "$$\\theta \\leftarrow \\theta - \\eta \\nabla _{\\theta } \\big [\\text {Loss}_ h(y^{(i)}(\\theta \\cdot x^{(i)} + \\theta _0) ) + \\frac{\\lambda }{2}\\mid \\mid \\theta \\mid \\mid ^2 \\big ]$$\n",
    "where $\\nabla$ is the learning rate. This can be a constant or can be adjusted over the training process. We will use the latter, based on the formula:\n",
    "$$ \\eta_{t+1} = \\frac {\\eta_t}{t^d} $$\n",
    "where $t$ is the training epoch, $\\eta_t$ is the learning rate for the $t$-th epoch, and $d$ is a decay parameter. \n",
    "\n",
    "If the case is placed correctly and outside the classification margin by the current parameters (i.e. $y^{(i)}(\\theta \\cdot x^{(i)} + \\theta _0)\\ge 1$), the update is based strictly on the regularization term. So, the gradient is $\\lambda \\theta$.\n",
    "\n",
    "If there is a positive `Loss` (i.e. $y^{(i)}(\\theta \\cdot x^{(i)} + \\theta _0)<1$), then the gradient is $-y^{(i)}x^{(i)} + \\lambda \\theta$.\n",
    "\n",
    "We continue cycling through the data, shuffling after each epoch, until the change in the cost remains below some threshold.\n",
    "\n",
    "Note that this algorithm only optimizes the parameters $\\theta$, and $\\theta_0$, while $\\lambda$, the initial $\\eta$, the learning rate decay parameter, and the convergence threshold are **hyperparameters** that must be set in advance.\n",
    "\n",
    "NOTE ABOUT THE OFFSET: rather than treating $\\theta_0$ as a separate parameter, it is possibe instead to prepend a `1` to every feature vector, so that the SVM trains $\\theta$ as a $D+1$ vector, where the first entry is equivalent to $\\theta_0$. This is what will be done below."
   ]
  },
  {
   "attachments": {},
   "cell_type": "markdown",
   "metadata": {},
   "source": [
    "## Implementation\n",
    "\n",
    "The cell below implements a linear SVM as a class that mimics the syntax of the popular machine learning package [scikit-learn](https://scikit-learn.org/stable/index.html).\n",
    "1. The model is first initialized with given (default or custom) hyperparameters. Here those are the regularization paramter `lam` (for $\\lambda$), the learning rate `lrate`, the `decay` of the learning rate, and the convergence `threshold`.\n",
    "1. Then, the model is trained on data using the method `fit(X, y)`, where X contains the features vectors (observations as rows, features as columns) and y contains the labels. The model saves the trained parameters.\n",
    "1. After that, the model can be used to assign labels to any feature vectors with the method `predict(X)`\n",
    "1. Finally, `score(X, y)` calculates and returns the share of correctly predicted cases.\n",
    "\n",
    "The class below also contains three helper functions called by `predict()`:\n",
    "1. `cost()` calculates the cost function for the entire dataset, needed to check for convergence\n",
    "1. `loss()` calculates and returns the Loss function for calculating the cost function, as defined above\n",
    "1. `train_epoch()` runs through the observations in random order one time, updating the parameters accordingly, and returning the resulting cost function.\n",
    "\n",
    "The `set_params()` and `copy()` methods will be used in hyperparameter tuning, below."
   ]
  },
  {
   "cell_type": "code",
   "execution_count": 38,
   "metadata": {},
   "outputs": [],
   "source": [
    "class LinearSVM():\n",
    "    def __init__(self, lam=1., lrate0=1., decay=0.5, threshold=1e-4) -> None:\n",
    "        '''\n",
    "        Initialize the model with the given hyperparameters:\n",
    "        - `lam`: the regularization parameter lambda\n",
    "        - `lrate`: the learning rate\n",
    "        - `threshold`: the convergence threshold\n",
    "        '''\n",
    "        self.lam = lam\n",
    "        self.lrate0 = lrate0\n",
    "        self.decay = decay\n",
    "        self.threshold = threshold\n",
    "        self.theta = None\n",
    "        self.max_iter = 1000\n",
    "\n",
    "    def loss(self, Xi, yi):\n",
    "        '''The Loss function for one observation'''\n",
    "        if self.theta is None:\n",
    "            raise ValueError('Cannot calculate loss without initializing theta')\n",
    "\n",
    "        agreement = yi*(self.theta @ Xi)\n",
    "        return 0 if agreement >= 1 else 1-agreement\n",
    "    \n",
    "    def cost(self, X, y):\n",
    "        '''Average cost for the whole dataset'''\n",
    "        loss_sum = 0\n",
    "        for Xi, yi in zip(X, y):\n",
    "            loss_sum += self.loss(Xi, yi)\n",
    "        return loss_sum/len(y) + self.lam/2 * (self.theta@self.theta)\n",
    "    \n",
    "    def train_epoch(self, X, y):\n",
    "        '''Cycles through cases in random order, updating theta. Returns the average cost after every update'''\n",
    "        order = np.arange(len(y)) \n",
    "        RNG.shuffle(order)\n",
    "        for i in order:\n",
    "            grad = self.lam * self.theta\n",
    "            grad -= y[i]*X[i] if self.loss(X[i], y[i]) > 0 else 0\n",
    "            self.theta -= self._lrate * grad\n",
    "        return self.cost(X, y)\n",
    "    \n",
    "    def fit(self, X, y):\n",
    "        '''Fits the model to the data (feature vectors X, labels y). To fit with an offset, prepend `1` to every feature vector'''\n",
    "        # initialize theta\n",
    "        self.theta = np.zeros(X.shape[-1])\n",
    "        self._lrate = self.lrate0\n",
    "\n",
    "        last_cost = np.inf\n",
    "        for i in range(self.max_iter):\n",
    "            new_cost = self.train_epoch(X, y)\n",
    "            if np.abs(last_cost - new_cost) < self.threshold:\n",
    "                break\n",
    "            else:\n",
    "                last_cost = new_cost\n",
    "                self._lrate = self._lrate/(1+i)**self.decay\n",
    "        else:\n",
    "            print(f\"Maximum of {self.max_iter} reached without convergence\")\n",
    "        return self\n",
    "    \n",
    "    def predict(self, X):\n",
    "        '''Predicts labels for feature vectors X'''\n",
    "        return sign(X @ self.theta)\n",
    "    \n",
    "    def score(self, X, y):\n",
    "        y_pred = self.predict(X)\n",
    "        return np.mean(y == y_pred)\n",
    "    \n",
    "    def set_params(self, **params):\n",
    "        for param, value in params.items():\n",
    "            setattr(self, param, value)\n",
    "        return self\n",
    "    \n",
    "    def copy(self):\n",
    "        return LinearSVM(self.lam, self.lrate0, self.decay, self.threshold)\n",
    "\n",
    "\n",
    "@np.vectorize\n",
    "def sign(z):\n",
    "    '''Converts values to labels, i.e. 1 and -1'''\n",
    "    return 1 if z>=0 else -1"
   ]
  },
  {
   "attachments": {},
   "cell_type": "markdown",
   "metadata": {},
   "source": [
    "# 2. Applying and Tuning the Model"
   ]
  },
  {
   "attachments": {},
   "cell_type": "markdown",
   "metadata": {},
   "source": [
    "The data is stored as in the file `ckd_data.csv`, and we can read it into a pandas DataFrame.\n",
    "\n",
    "The data has 400 rows. However, only the target label (`class`) has a full 400 observations: every feature has at least some missing values."
   ]
  },
  {
   "cell_type": "code",
   "execution_count": 9,
   "metadata": {},
   "outputs": [
    {
     "name": "stdout",
     "output_type": "stream",
     "text": [
      "<class 'pandas.core.frame.DataFrame'>\n",
      "Int64Index: 400 entries, 0 to 399\n",
      "Data columns (total 25 columns):\n",
      " #   Column  Non-Null Count  Dtype  \n",
      "---  ------  --------------  -----  \n",
      " 0   age     391 non-null    float64\n",
      " 1   bp      388 non-null    float64\n",
      " 2   sg      353 non-null    float64\n",
      " 3   al      354 non-null    float64\n",
      " 4   su      351 non-null    float64\n",
      " 5   rbc     248 non-null    object \n",
      " 6   pc      335 non-null    object \n",
      " 7   pcc     396 non-null    object \n",
      " 8   ba      396 non-null    object \n",
      " 9   bgr     356 non-null    float64\n",
      " 10  bu      381 non-null    float64\n",
      " 11  sc      383 non-null    float64\n",
      " 12  sod     313 non-null    float64\n",
      " 13  pot     312 non-null    float64\n",
      " 14  hemo    348 non-null    float64\n",
      " 15  pcv     329 non-null    float64\n",
      " 16  wbcc    294 non-null    float64\n",
      " 17  rbcc    269 non-null    float64\n",
      " 18  htn     398 non-null    object \n",
      " 19  dm      398 non-null    object \n",
      " 20  cad     398 non-null    object \n",
      " 21  appet   399 non-null    object \n",
      " 22  pe      399 non-null    object \n",
      " 23  ane     399 non-null    object \n",
      " 24  class   400 non-null    object \n",
      "dtypes: float64(14), object(11)\n",
      "memory usage: 81.2+ KB\n",
      "None\n"
     ]
    }
   ],
   "source": [
    "raw_data = pd.read_csv('ckd_data.csv', index_col=0)\n",
    "print(raw_data.info())"
   ]
  },
  {
   "attachments": {},
   "cell_type": "markdown",
   "metadata": {},
   "source": [
    "## A Naive Model\n",
    "\n",
    "As a first pass, we can adopt the most conservative approach to the missing values: dropping any row that contained any. This results in 158 valid observations."
   ]
  },
  {
   "cell_type": "code",
   "execution_count": 10,
   "metadata": {},
   "outputs": [
    {
     "name": "stdout",
     "output_type": "stream",
     "text": [
      "<class 'pandas.core.frame.DataFrame'>\n",
      "Int64Index: 158 entries, 3 to 399\n",
      "Data columns (total 25 columns):\n",
      " #   Column  Non-Null Count  Dtype  \n",
      "---  ------  --------------  -----  \n",
      " 0   age     158 non-null    float64\n",
      " 1   bp      158 non-null    float64\n",
      " 2   sg      158 non-null    float64\n",
      " 3   al      158 non-null    float64\n",
      " 4   su      158 non-null    float64\n",
      " 5   rbc     158 non-null    object \n",
      " 6   pc      158 non-null    object \n",
      " 7   pcc     158 non-null    object \n",
      " 8   ba      158 non-null    object \n",
      " 9   bgr     158 non-null    float64\n",
      " 10  bu      158 non-null    float64\n",
      " 11  sc      158 non-null    float64\n",
      " 12  sod     158 non-null    float64\n",
      " 13  pot     158 non-null    float64\n",
      " 14  hemo    158 non-null    float64\n",
      " 15  pcv     158 non-null    float64\n",
      " 16  wbcc    158 non-null    float64\n",
      " 17  rbcc    158 non-null    float64\n",
      " 18  htn     158 non-null    object \n",
      " 19  dm      158 non-null    object \n",
      " 20  cad     158 non-null    object \n",
      " 21  appet   158 non-null    object \n",
      " 22  pe      158 non-null    object \n",
      " 23  ane     158 non-null    object \n",
      " 24  class   158 non-null    object \n",
      "dtypes: float64(14), object(11)\n",
      "memory usage: 32.1+ KB\n"
     ]
    }
   ],
   "source": [
    "data_dropNA = raw_data.dropna()\n",
    "data_dropNA.info()"
   ]
  },
  {
   "attachments": {},
   "cell_type": "markdown",
   "metadata": {},
   "source": [
    "Next, we need to convert the non-numeric columns (dtype object above) into a numeric format. As shown below, tt turns out that each of these features represent binary categories. "
   ]
  },
  {
   "cell_type": "code",
   "execution_count": 11,
   "metadata": {},
   "outputs": [
    {
     "name": "stdout",
     "output_type": "stream",
     "text": [
      "                0           1\n",
      "rbc        normal    abnormal\n",
      "pc       abnormal      normal\n",
      "pcc       present  notpresent\n",
      "ba     notpresent     present\n",
      "htn           yes          no\n",
      "dm             no         yes\n",
      "cad            no         yes\n",
      "appet        poor        good\n",
      "pe            yes          no\n",
      "ane           yes          no\n",
      "class         ckd      notckd\n"
     ]
    }
   ],
   "source": [
    "print(data_dropNA.select_dtypes('object').apply(pd.unique).T)"
   ]
  },
  {
   "attachments": {},
   "cell_type": "markdown",
   "metadata": {},
   "source": [
    "So, we can easily use binary encoding: replacing the categorical feature with that is 1 if the case falls within one category, otherwise 0. This can be done with the pandas method `.getdummies()`. Note that the parameter `drop_first=True` ensures that only one binary feature is created for each categorical feature.\n",
    "\n",
    "For the target label, we need to recode for the SVM algorithm: the positive label $+1$ applies to patients with chronic kidney disease, and the negative label $-1$ to those who do not.\n",
    "\n",
    "Finally, while the single pandas DataFrame is convenient to exploring the data, for training the model we can split it into feature vectors (X) and labels (y). We also add a 1 to each feature vector to act as an offset."
   ]
  },
  {
   "cell_type": "code",
   "execution_count": 12,
   "metadata": {},
   "outputs": [],
   "source": [
    "def prepare_data(df: pd.DataFrame):\n",
    "    '''Encoded categorical data numerically and returns separate feature vectors and labels'''\n",
    "    df_copy = df.copy()\n",
    "    df_copy['offset'] = 1\n",
    "    X = pd.get_dummies(df_copy.drop(columns='class'), drop_first=True).to_numpy()\n",
    "    y = np.where(df_copy['class'] == 'ckd', 1., -1.)\n",
    "    return X, y\n"
   ]
  },
  {
   "cell_type": "code",
   "execution_count": 13,
   "metadata": {},
   "outputs": [],
   "source": [
    "X, y = prepare_data(data_dropNA)"
   ]
  },
  {
   "attachments": {},
   "cell_type": "markdown",
   "metadata": {},
   "source": [
    "We are not yet ready to train the model, however. We need to split our data into training and test sets. The training data is used to train the model, while the test data is used to assess its generalizable performance. We will set aside $\\frac{1}{4}$ of the latter as the test data. This is done randomly, with one adjustment: we want to preserve the rough balance of positively and negatively labeled cases in the training and testing data.\n",
    "\n",
    "We thus will end up with 4 numpy arrays: `X_train`, `X_test`, `y_train`, `y_test`."
   ]
  },
  {
   "cell_type": "code",
   "execution_count": 14,
   "metadata": {},
   "outputs": [],
   "source": [
    "def train_test_split(X: np.ndarray, y:np.ndarray, train_size:float):\n",
    "    '''Randomly splits arrays into training and test sets, stratifying on the values of `y`'''\n",
    "    positive_indices = np.flatnonzero(y == 1)\n",
    "    RNG.shuffle(positive_indices)\n",
    "    n_train_positive = int(train_size * len(positive_indices))\n",
    "\n",
    "    negative_indices = np.flatnonzero(y == -1)\n",
    "    RNG.shuffle(negative_indices)\n",
    "    n_train_negative = int(train_size * len(negative_indices))\n",
    "\n",
    "    train_indices = np.concatenate(\n",
    "        [\n",
    "            positive_indices[:n_train_positive], \n",
    "            negative_indices[:n_train_negative]\n",
    "        ], \n",
    "        axis=None)\n",
    "    test_indices = np.concatenate(\n",
    "        [\n",
    "            positive_indices[n_train_positive:], \n",
    "            negative_indices[n_train_negative:]\n",
    "        ], \n",
    "        axis=None)\n",
    "\n",
    "    X_train = X[train_indices]\n",
    "    X_test = X[test_indices]\n",
    "    y_train = y[train_indices]\n",
    "    y_test = y[test_indices]\n",
    "\n",
    "    return X_train, X_test, y_train, y_test\n"
   ]
  },
  {
   "cell_type": "code",
   "execution_count": 15,
   "metadata": {},
   "outputs": [
    {
     "name": "stdout",
     "output_type": "stream",
     "text": [
      "(118, 25) (40, 25) (118,) (40,)\n"
     ]
    }
   ],
   "source": [
    "X_train, X_test, y_train, y_test = train_test_split(X, y, 0.75)\n",
    "print(X_train.shape, X_test.shape, y_train.shape, y_test.shape)"
   ]
  },
  {
   "attachments": {},
   "cell_type": "markdown",
   "metadata": {},
   "source": [
    "One important thing to note here is that between dropping missing values and splitting the data, we are left with rather few observations.\n",
    "\n",
    "The cells below fit the model and report on its classification performance in three ways:\n",
    "1. The share of correctly labeled observations in the training data.\n",
    "1. The share of correctly labeled observations in the testing data.\n",
    "1. More fine-grained measures, broken down by label, for the testing data. Precision is the share of predictions that are correct, while recall is the share of members of the class that are correctly labeled by the classifier."
   ]
  },
  {
   "cell_type": "code",
   "execution_count": 16,
   "metadata": {},
   "outputs": [
    {
     "name": "stdout",
     "output_type": "stream",
     "text": [
      "Average training accuracy:  0.9830508474576272\n",
      "Average test accuracy:  1.0\n"
     ]
    }
   ],
   "source": [
    "default_svm = LinearSVM()\n",
    "default_svm.fit(X_train, y_train)\n",
    "print('Average training accuracy: ', default_svm.score(X_train, y_train))\n",
    "print('Average test accuracy: ', default_svm.score(X_test, y_test))"
   ]
  },
  {
   "cell_type": "code",
   "execution_count": 17,
   "metadata": {},
   "outputs": [
    {
     "name": "stdout",
     "output_type": "stream",
     "text": [
      "              precision    recall  f1-score   support\n",
      "\n",
      "        -1.0       1.00      1.00      1.00        29\n",
      "         1.0       1.00      1.00      1.00        11\n",
      "\n",
      "    accuracy                           1.00        40\n",
      "   macro avg       1.00      1.00      1.00        40\n",
      "weighted avg       1.00      1.00      1.00        40\n",
      "\n"
     ]
    }
   ],
   "source": [
    "y_pred = default_svm.predict(X_test)\n",
    "print(classification_report(y_test, y_pred))"
   ]
  },
  {
   "attachments": {},
   "cell_type": "markdown",
   "metadata": {},
   "source": [
    "There are two things to note here:\n",
    "1. Because the labels are imbalanced (i.e. there are many more negative than positive cases), the average accuracy does not fully capture the performance across the two labels. In particular, the precision and recall for the positive cases is usually noticeably lower.\n",
    "1. With so little data, the particular random split between training and testing data substantially impacts the model. This is demonstrated in the next cell, which compares the score for 1000 different iterations of spltting the data and fitting the model."
   ]
  },
  {
   "cell_type": "code",
   "execution_count": 18,
   "metadata": {},
   "outputs": [
    {
     "data": {
      "image/png": "[encoded data removed]",
      "text/plain": [
       "<Figure size 640x480 with 1 Axes>"
      ]
     },
     "metadata": {},
     "output_type": "display_data"
    }
   ],
   "source": [
    "reps = 1000\n",
    "scores = np.empty(reps)\n",
    "for i in range(reps):\n",
    "    X_train, X_test, y_train, y_test = train_test_split(X, y, 0.75)\n",
    "    default_svm = LinearSVM()\n",
    "    default_svm.fit(X_train, y_train)\n",
    "    scores[i] = default_svm.score(X_test, y_test)\n",
    "sns.histplot(scores)\n",
    "plt.title(f'Distribution of scores for {reps} different random test-train splits');"
   ]
  },
  {
   "attachments": {},
   "cell_type": "markdown",
   "metadata": {},
   "source": [
    "So far, we have used only one set of hyperparameters (defined as defaults in the initialization function for the model class above): `lam=1., lrate=1., decay=0.5, threshold=1e-4`. How does the performance of the model vary with these hyperparameters? We can answer this question with **k-fold cross-validation**. That is to say, we split the *training* data into a certain number of equal-sized parts (say, 5), then fit train the model 5 times, each with $\\frac {4}{5}$ of the data, and average the performance on the remaining $\\frac{1}{5}$. Then, by comparing the results for different sets of hyperparameters, we can tune the model.\n",
    "\n",
    " Unfortunately, with only 118 cases in the training data, trying five-fold cross validation would result in training on less than 100 cases and validating on 24. We can't afford to just discard the cases with missing values."
   ]
  },
  {
   "attachments": {},
   "cell_type": "markdown",
   "metadata": {},
   "source": [
    "## Imputing Missing Values"
   ]
  },
  {
   "attachments": {},
   "cell_type": "markdown",
   "metadata": {},
   "source": [
    "We will employ a simple strategy for filling the missing values:\n",
    "1. For numeric features, replace all missing values with the mean.\n",
    "1. For categorical features, replace all missing values with the mode.\n",
    "\n",
    "The cell below does this, taking advantage of the DataFrame method `.select_dtypes()`, where `'object'` corresponds to the categorical data and `'float'` to the numeric."
   ]
  },
  {
   "cell_type": "code",
   "execution_count": 19,
   "metadata": {},
   "outputs": [
    {
     "name": "stdout",
     "output_type": "stream",
     "text": [
      "<class 'pandas.core.frame.DataFrame'>\n",
      "Int64Index: 400 entries, 0 to 399\n",
      "Data columns (total 25 columns):\n",
      " #   Column  Non-Null Count  Dtype  \n",
      "---  ------  --------------  -----  \n",
      " 0   age     400 non-null    float64\n",
      " 1   bp      400 non-null    float64\n",
      " 2   sg      400 non-null    float64\n",
      " 3   al      400 non-null    float64\n",
      " 4   su      400 non-null    float64\n",
      " 5   rbc     400 non-null    object \n",
      " 6   pc      400 non-null    object \n",
      " 7   pcc     400 non-null    object \n",
      " 8   ba      400 non-null    object \n",
      " 9   bgr     400 non-null    float64\n",
      " 10  bu      400 non-null    float64\n",
      " 11  sc      400 non-null    float64\n",
      " 12  sod     400 non-null    float64\n",
      " 13  pot     400 non-null    float64\n",
      " 14  hemo    400 non-null    float64\n",
      " 15  pcv     400 non-null    float64\n",
      " 16  wbcc    400 non-null    float64\n",
      " 17  rbcc    400 non-null    float64\n",
      " 18  htn     400 non-null    object \n",
      " 19  dm      400 non-null    object \n",
      " 20  cad     400 non-null    object \n",
      " 21  appet   400 non-null    object \n",
      " 22  pe      400 non-null    object \n",
      " 23  ane     400 non-null    object \n",
      " 24  class   400 non-null    object \n",
      "dtypes: float64(14), object(11)\n",
      "memory usage: 81.2+ KB\n"
     ]
    }
   ],
   "source": [
    "cat_fill = raw_data.select_dtypes('object').mode().iloc[0]\n",
    "num_fill = raw_data.select_dtypes('float').mean().iloc[0]\n",
    "data_filled = raw_data.fillna(cat_fill)\n",
    "data_filled.fillna(num_fill, inplace=True)\n",
    "data_filled.info()"
   ]
  },
  {
   "attachments": {},
   "cell_type": "markdown",
   "metadata": {},
   "source": [
    "If we then fit and assess this model using the same procedure as above, we see that the results are somewhat worse. This is not surprising: the cost of including information from the observations with missing values is to introduce some noise from filling in those missing values with the means and modes."
   ]
  },
  {
   "cell_type": "code",
   "execution_count": 30,
   "metadata": {},
   "outputs": [
    {
     "name": "stdout",
     "output_type": "stream",
     "text": [
      "Training accuracy:  0.8662207357859532\n",
      "              precision    recall  f1-score   support\n",
      "\n",
      "        -1.0       0.79      0.79      0.79        38\n",
      "         1.0       0.87      0.87      0.87        63\n",
      "\n",
      "    accuracy                           0.84       101\n",
      "   macro avg       0.83      0.83      0.83       101\n",
      "weighted avg       0.84      0.84      0.84       101\n",
      "\n"
     ]
    }
   ],
   "source": [
    "X, y = prepare_data(data_filled)\n",
    "X_train, X_test, y_train, y_test = train_test_split(X, y, 0.75)\n",
    "svm = LinearSVM()\n",
    "svm.fit(X_train, y_train)\n",
    "print('Training accuracy: ', svm.score(X_train, y_train))\n",
    "y_pred = svm.predict(X_test)\n",
    "print(classification_report(y_test, y_pred))"
   ]
  },
  {
   "attachments": {},
   "cell_type": "markdown",
   "metadata": {},
   "source": [
    "## Hyperparameter Tuning\n",
    "\n",
    "With this somehwat larger dataset, we can now try to tune the hyperparameters. There are various strategies for hyperparameter turning, including grid search, random search, and Bayesian optimization. Since our model and data are quite small, we can use the first: this entails listing out alternative values for each hyperparameters and then fitting every possible combination of those values.\n",
    "\n",
    "The next cell defines a class `GridSearchCV` that implements cross-validation by grid-search on a given set of hyperparameters. It mimics the [class of the same name](https://scikit-learn.org/stable/modules/generated/sklearn.model_selection.GridSearchCV.html#sklearn.model_selection.GridSearchCV) in the Scikit-Learn package.\n",
    "\n",
    "On initialization the `GridSearchCV` takes a model instance (`estimator`, which needs `fit`, `predict`, and `score` methods) and a dict of parameters to search (`param_grid`). In the parameter grid dict, the keys are the parameters names for the model and the values are lists containing the alternative values."
   ]
  },
  {
   "cell_type": "code",
   "execution_count": 41,
   "metadata": {},
   "outputs": [],
   "source": [
    "class GridSearchCV():\n",
    "    def __init__(self, estimator, param_grid:dict, cv=5) -> None:\n",
    "        self.base_estimator  = estimator.copy()\n",
    "        self.param_grid = param_grid\n",
    "        self.cv = cv\n",
    "\n",
    "    def fit(self, X, y):\n",
    "        # partition the data\n",
    "        partitions = self.make_partition(len(y))\n",
    "\n",
    "        # initialize results\n",
    "        results = {\n",
    "            'params': [],\n",
    "            'mean_score': []\n",
    "        }\n",
    "        results.update({\n",
    "            f'score{i+1}': [] for i in range(self.cv)\n",
    "        })\n",
    "\n",
    "        # loop through each parameter set, fitting 5 times and saving scores\n",
    "        for param_dict in self.iter_params():\n",
    "            results['params'].append(param_dict)\n",
    "            model = self.base_estimator.copy()\n",
    "            model.set_params(**param_dict)\n",
    "            total_score = 0\n",
    "            for i, (train_set, validation_set) in enumerate(partitions):\n",
    "                model.fit(X[train_set], y[train_set])\n",
    "                score = model.score(X[validation_set], y[validation_set])\n",
    "                results[f'score{i+1}'].append(score)\n",
    "                total_score += score\n",
    "            results['mean_score'].append(total_score/self.cv)\n",
    "        # save results as a DataFrame\n",
    "        self.results = pd.DataFrame(results)\n",
    "        # save best-performing paramets and fit estimator on it with all training data\n",
    "        self.best_params = self.results.sort_values('mean_score', ascending=False).loc[0, 'params']\n",
    "        self.best_estimator = self.base_estimator.copy().set_params(**self.best_params).fit(X, y)\n",
    "        \n",
    "        return self\n",
    "    \n",
    "    def make_partition(self, length):\n",
    "        '''An iterator that returns training and validation indices for k-fold cross validation'''\n",
    "        indices = np.arange(length)\n",
    "        RNG.shuffle(indices)\n",
    "        step = length // self.cv\n",
    "        start_points = [step*i for i in range(self.cv)]\n",
    "        end_points = [step*i for i in range(1, self.cv+1)]\n",
    "        partitions = []\n",
    "        for start, end in zip(start_points, end_points):\n",
    "            partitions.append((np.concatenate([indices[:start], indices[end:]]), indices[start:end]))\n",
    "        return partitions\n",
    "    \n",
    "    def iter_params(self):\n",
    "        '''Yields every combination of parameters from the parameter dict'''\n",
    "        # d = 0\n",
    "        # perms = 1\n",
    "        # for param_list in self.param_grid.values():\n",
    "        #     d += 1\n",
    "        #     perms *= len(param_list)\n",
    "        # full_grid = [{} for _ in range(perms)]\n",
    "        grid = [{}]\n",
    "        for param_name, param_list in self.param_grid.items():\n",
    "            old_grid = grid\n",
    "            grid = []\n",
    "            for val in param_list:\n",
    "                grid_part = [param_dict.copy() for param_dict in old_grid]\n",
    "                for param_dict in grid_part:\n",
    "                    param_dict.update({param_name:val})\n",
    "                grid += grid_part\n",
    "        for param_dict in grid:\n",
    "            yield param_dict\n"
   ]
  },
  {
   "cell_type": "code",
   "execution_count": 52,
   "metadata": {},
   "outputs": [
    {
     "name": "stdout",
     "output_type": "stream",
     "text": [
      "                                                 params  mean_score\n",
      "35    {'lam': 0.6000000000000001, 'lrate0': 0.2, 'de...    0.874576\n",
      "93            {'lam': 1.1, 'lrate0': 0.4, 'decay': 0.1}    0.874576\n",
      "138   {'lam': 0.9500000000000001, 'lrate0': 0.600000...    0.871186\n",
      "17            {'lam': 0.9, 'lrate0': 0.1, 'decay': 0.1}    0.871186\n",
      "52    {'lam': 0.25, 'lrate0': 0.30000000000000004, '...    0.871186\n",
      "38           {'lam': 0.75, 'lrate0': 0.2, 'decay': 0.1}    0.871186\n",
      "90    {'lam': 0.9500000000000001, 'lrate0': 0.4, 'de...    0.871186\n",
      "1193          {'lam': 0.9, 'lrate0': 1.0, 'decay': 0.5}    0.871186\n",
      "26    {'lam': 0.15000000000000002, 'lrate0': 0.2, 'd...    0.871186\n",
      "124   {'lam': 0.25, 'lrate0': 0.6000000000000001, 'd...    0.871186\n",
      "1095  {'lam': 0.8, 'lrate0': 0.6000000000000001, 'de...    0.871186\n",
      "47    {'lam': 1.2000000000000002, 'lrate0': 0.2, 'de...    0.871186\n",
      "48    {'lam': 0.05, 'lrate0': 0.30000000000000004, '...    0.871186\n",
      "194   {'lam': 0.15000000000000002, 'lrate0': 0.9, 'd...    0.871186\n",
      "256   {'lam': 0.8500000000000001, 'lrate0': 0.1, 'de...    0.871186\n"
     ]
    }
   ],
   "source": [
    "param_dict = {\n",
    "    'lam': [0.05*i for i in range(1, 25)],\n",
    "    'lrate0': [0.1*i for i in range(1, 11)],\n",
    "    'decay': [0.1*i for i in range(1, 11)]\n",
    "}\n",
    "\n",
    "searcher = GridSearchCV(LinearSVM(), param_dict)\n",
    "searcher.fit(X_train, y_train)\n",
    "print(searcher.results[['params', 'mean_score']].sort_values('mean_score', ascending=False).head(15))"
   ]
  }
 ],
 "metadata": {
  "kernelspec": {
   "display_name": "base",
   "language": "python",
   "name": "python3"
  },
  "language_info": {
   "codemirror_mode": {
    "name": "ipython",
    "version": 3
   },
   "file_extension": ".py",
   "mimetype": "text/x-python",
   "name": "python",
   "nbconvert_exporter": "python",
   "pygments_lexer": "ipython3",
   "version": "3.10.9"
  },
  "orig_nbformat": 4
 },
 "nbformat": 4,
 "nbformat_minor": 2
}
